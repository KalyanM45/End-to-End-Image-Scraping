{
 "cells": [
  {
   "cell_type": "code",
   "execution_count": 44,
   "id": "264983bc-65f3-4e09-b18e-2163a0037ce8",
   "metadata": {},
   "outputs": [],
   "source": [
    "import requests\n",
    "import logging\n",
    "import os\n",
    "\n",
    "from bs4 import BeautifulSoup  #to scrap data from html/xml pages - content\n",
    "from urllib.request import urlopen  #for requesting the server"
   ]
  },
  {
   "cell_type": "code",
   "execution_count": 45,
   "id": "15e0a06f-9fce-45e0-8ffc-a79615d312e3",
   "metadata": {},
   "outputs": [],
   "source": [
    "save_dir = \"images/\"\n",
    "\n",
    "#creating the Images directory if it is doesnt exists.\n",
    "if  not os.path.exists(save_dir):\n",
    "    os.makedirs(save_dir)"
   ]
  },
  {
   "cell_type": "code",
   "execution_count": 46,
   "id": "e0cd73b9-7def-4657-a28b-fca9d32061b2",
   "metadata": {},
   "outputs": [],
   "source": [
    "query = \"ISRO\""
   ]
  },
  {
   "cell_type": "code",
   "execution_count": 47,
   "id": "6f24e090-a289-40c0-97d2-46e49b5b3b22",
   "metadata": {},
   "outputs": [],
   "source": [
    "response = requests.get(f\"https://www.google.com/search?q={query}&tbm=isch&ved=2ahUKEwizs9SKyLqAAxV2yaACHafeCUoQ2-cCegQIABAA&oq=elon+musk&gs_lcp=CgNpbWcQAzIKCAAQigUQsQMQQzIKCAAQigUQsQMQQzIICAAQgAQQsQMyCAgAEIAEELEDMggIABCABBCxAzIICAAQgAQQsQMyCAgAEIAEELEDMggIABCABBCxAzIICAAQgAQQsQMyBQgAEIAEOgQIIxAnOgsIABCABBCxAxCDAToNCAAQigUQsQMQgwEQQzoECAAQAzoHCAAQigUQQzoHCCMQ6gIQJzoICAAQsQMQgwFQ3ARYwRlg3CFoAXAAeAKAAYMBiAHdC5IBBDAuMTOYAQCgAQGqAQtnd3Mtd2l6LWltZ7ABCsABAQ&sclient=img&ei=-oHIZLPOMPaSg8UPp72n0AQ&bih=788&biw=767\")"
   ]
  },
  {
   "cell_type": "code",
   "execution_count": 48,
   "id": "197ca86f-dca5-49ab-82f2-650e0eb4327d",
   "metadata": {},
   "outputs": [
    {
     "data": {
      "text/plain": [
       "<Response [200]>"
      ]
     },
     "execution_count": 48,
     "metadata": {},
     "output_type": "execute_result"
    }
   ],
   "source": [
    "response"
   ]
  },
  {
   "cell_type": "code",
   "execution_count": 49,
   "id": "c07c3311-fae0-4a18-a069-bc03d9571734",
   "metadata": {},
   "outputs": [],
   "source": [
    "soup = BeautifulSoup(response.content,\"html.parser\")"
   ]
  },
  {
   "cell_type": "code",
   "execution_count": 50,
   "id": "9030e99a-b416-4499-bec5-f97eb65ff485",
   "metadata": {},
   "outputs": [
    {
     "data": {
      "text/plain": [
       "<!DOCTYPE html PUBLIC \"-//WAPFORUM//DTD XHTML Mobile 1.0//EN\" \"http://www.wapforum.org/DTD/xhtml-mobile10.dtd\">\n",
       "<html lang=\"en-IN\" xmlns=\"http://www.w3.org/1999/xhtml\"><head><meta content=\"application/xhtml+xml; charset=utf-8\" http-equiv=\"Content-Type\"/><meta content=\"no-cache\" name=\"Cache-Control\"/><title>ISRO - Google Search</title><style>a{text-decoration:none;color:inherit}a:hover{text-decoration:underline}a img{border:0}body{font-family:arial,sans-serif;padding:8px;margin:0 auto;max-width:700px;min-width:240px;}.FbhRzb{border-left:thin solid #dadce0;border-right:thin solid #dadce0;border-top:thin solid #dadce0;height:40px;overflow:hidden}.n692Zd{margin-bottom:10px}.cvifge{height:40px;border-spacing:0}.QvGUP{height:40px;padding:0 8px 0 8px;vertical-align:top}.O4cRJf{height:40px;width:100%;padding:0;padding-right:16px}.O1ePr{height:40px;padding:0;vertical-align:top}.kgJEQe{height:36px;width:98px;vertical-align:top;margin-top:4px}.lXLRf{vertical-align:top}.MhzMZd{border:0;vertical-align:middle;font-size:14px;height:40px;padding:0;width:100%;padding-left:16px}.xB0fq{height:40px;border:none;font-size:14px;background-color:#1a73e8;color:#fff;padding:0 16px;margin:0;vertical-align:top;cursor:pointer}.xB0fq:focus{border:1px solid #1a73e8}.M7pB2{border:thin solid #dadce0;margin:0 0 3px 0;font-size:13px;font-weight:500;height:40px}.euZec{width:100%;height:40px;text-align:center;border-spacing:0}table.euZec td{padding:0;width:25%}.QIqI7{display:inline-block;padding-top:4px;font-weight:bold;color:#4285f4}.EY24We{border-bottom:2px solid #4285f4}.CsQyDc{display:inline-block;color:#70757a}.TuS8Ad{font-size:14px}.HddGcc{padding:8px;color:#70757a}.dzp8ae{font-weight:bold;color:#3c4043}.rEM8G{color:#70757a}.bookcf{table-layout:fixed;width:100%;border-spacing:0}.InWNIe{text-align:center}.uZgmoc{border:thin solid #dadce0;color:#70757a;font-size:14px;text-align:center;table-layout:fixed;width:100%}.frGj1b{display:block;padding:12px 0 12px 0;width:100%}.BnJWBc{text-align:center;padding:6px 0 13px 0;height:35px}.e3goi{vertical-align:top;padding:0;height:180px}.GpQGbf{margin:auto;border-collapse:collapse;border-spacing:0;width:100%}</style></head><body><style>.X6ZCif{color:#202124;font-size:11px;line-height:16px;display:inline-block;padding-top:2px;overflow:hidden;padding-bottom:4px;width:100%}.TwVfHd{border-radius:16px;border:thin solid #dadce0;display:inline-block;padding:8px 8px;margin-right:8px;margin-bottom:4px}.yekiAe{background-color:#dadce0}.mnTahd{width:100%}.ezO2md{border:thin solid #dadce0;padding:12px 16px 12px 16px;margin-bottom:10px;font-family:arial,sans-serif}.lIMUZd{font-family:arial,sans-serif}.IkMU6e{border-spacing:0}.SjCsie{width:100%}.EnarA{text-align:center}.NZWO1b{width:162px;height:140px;line-height:140px;overflow:'hidden';text-align:center}.yWs4tf{text-align:center;margin:auto;vertical-align:middle;max-width:162px;max-height:140px}.jB2rPd{padding-top:2px;padding-bottom:8px;}.fYyStc{word-break:break-word}.ynsChf{display:block;white-space:nowrap;overflow:hidden;text-overflow:ellipsis}.Fj3V3b{color:#1967d2;font-size:14px;line-height:20px}.FrIlee{color:#202124;font-size:11px;line-height:16px}.F9iS2e{color:#70757a;font-size:11px;line-height:16px}.WMQ2Le{color:#70757a;font-size:12px;line-height:16px}.x3G5ab{color:#202124;font-size:12px;line-height:16px}.fuLhoc{color:#1967d2;font-size:16px;line-height:20px}.epoveb{font-size:24px;line-height:28px;font-weight:400;color:#202124}.dXDvrc{color:#0d652d;font-size:14px;line-height:20px;word-wrap:break-word}.dloBPe{font-weight:bold}.YVIcad{color:#70757a}.JkVVdd{color:#ea4335}.oXZRFd{color:#ea4335}.MQHtg{color:#fbbc04}.pyMRrb{color:#1e8e3e}.EtTZid{color:#1e8e3e}.M3vVJe{color:#1967d2}.qXLe6d{display:block}.NHQNef{font-style:italic}.Cb8Z7c{white-space:pre}a.ZWRArf{text-decoration:none}a .CVA68e:hover{text-decoration:underline}</style><div class=\"n692Zd\"><div class=\"BnJWBc\"><a class=\"lXLRf\" href=\"/?bih=788&amp;biw=767&amp;output=images&amp;ie=UTF-8&amp;tbm=isch&amp;sa=X&amp;ved=0ahUKEwjxm9rc1LqAAxVwcGwGHfeKDBcQPAgC\"><img alt=\"Google\" class=\"kgJEQe\" src=\"/images/branding/searchlogo/1x/googlelogo_desk_heirloom_color_150x55dp.gif\"/></a></div><div class=\"FbhRzb\"><form action=\"/search\"><input name=\"bih\" type=\"hidden\" value=\"788\"/><input name=\"biw\" type=\"hidden\" value=\"767\"/><input name=\"ie\" type=\"hidden\" value=\"ISO-8859-1\"/><input name=\"tbm\" type=\"hidden\" value=\"isch\"/><input name=\"oq\" type=\"hidden\"/><input name=\"aqs\" type=\"hidden\"/><table class=\"cvifge\"><tr><td class=\"O4cRJf\"><input class=\"MhzMZd\" name=\"q\" type=\"text\" value=\"ISRO\"/></td><td class=\"O1ePr\"><input class=\"xB0fq\" type=\"submit\" value=\"Search\"/></td></tr></table></form></div><div class=\"M7pB2\"><table class=\"euZec\"><tbody><tr><td><a class=\"CsQyDc\" href=\"/search?q=ISRO&amp;bih=788&amp;biw=767&amp;ie=UTF-8&amp;source=lnms&amp;sa=X&amp;ved=0ahUKEwjxm9rc1LqAAxVwcGwGHfeKDBcQ_AUIBCgA\">ALL</a></td><td><a class=\"CsQyDc\" href=\"/search?q=ISRO&amp;bih=788&amp;biw=767&amp;ie=UTF-8&amp;tbm=nws&amp;source=lnms&amp;sa=X&amp;ved=0ahUKEwjxm9rc1LqAAxVwcGwGHfeKDBcQ_AUIBSgB\">NEWS</a></td><td class=\"EY24We\"><span class=\"QIqI7\">IMAGES</span></td><td><a class=\"CsQyDc\" href=\"/search?q=ISRO&amp;bih=788&amp;biw=767&amp;ie=UTF-8&amp;tbm=vid&amp;source=lnms&amp;sa=X&amp;ved=0ahUKEwjxm9rc1LqAAxVwcGwGHfeKDBcQ_AUIBygD\">VIDEOS</a></td></tr></tbody></table></div></div><div class=\"X6ZCif\"><a class=\"TwVfHd\" href=\"/search?bih=788&amp;biw=767&amp;ie=UTF-8&amp;tbm=isch&amp;q=ISRO&amp;chips=q:isro,g_1:logo&amp;sa=X&amp;ved=0ahUKEwjxm9rc1LqAAxVwcGwGHfeKDBcQ4lYICygA\">logo</a><a class=\"TwVfHd\" href=\"/search?bih=788&amp;biw=767&amp;ie=UTF-8&amp;tbm=isch&amp;q=ISRO&amp;chips=q:isro,g_1:satellite&amp;sa=X&amp;ved=0ahUKEwjxm9rc1LqAAxVwcGwGHfeKDBcQ4lYIDCgB\">satellite</a><a class=\"TwVfHd\" href=\"/search?bih=788&amp;biw=767&amp;ie=UTF-8&amp;tbm=isch&amp;q=ISRO&amp;chips=q:isro,g_1:rocket&amp;sa=X&amp;ved=0ahUKEwjxm9rc1LqAAxVwcGwGHfeKDBcQ4lYIDSgC\">rocket</a><a class=\"TwVfHd\" href=\"/search?bih=788&amp;biw=767&amp;ie=UTF-8&amp;tbm=isch&amp;q=ISRO&amp;chips=q:isro,g_1:india&amp;sa=X&amp;ved=0ahUKEwjxm9rc1LqAAxVwcGwGHfeKDBcQ4lYIDigD\">india</a><a class=\"TwVfHd\" href=\"/search?bih=788&amp;biw=767&amp;ie=UTF-8&amp;tbm=isch&amp;q=ISRO&amp;chips=q:isro,g_1:space&amp;sa=X&amp;ved=0ahUKEwjxm9rc1LqAAxVwcGwGHfeKDBcQ4lYIDygE\">space</a><a class=\"TwVfHd\" href=\"/search?bih=788&amp;biw=767&amp;ie=UTF-8&amp;tbm=isch&amp;q=ISRO&amp;chips=q:isro,g_1:scientist&amp;sa=X&amp;ved=0ahUKEwjxm9rc1LqAAxVwcGwGHfeKDBcQ4lYIECgF\">scientist</a><a class=\"TwVfHd\" href=\"/search?bih=788&amp;biw=767&amp;ie=UTF-8&amp;tbm=isch&amp;q=ISRO&amp;chips=q:isro,g_1:pslv&amp;sa=X&amp;ved=0ahUKEwjxm9rc1LqAAxVwcGwGHfeKDBcQ4lYIESgG\">pslv</a><a class=\"TwVfHd\" href=\"/search?bih=788&amp;biw=767&amp;ie=UTF-8&amp;tbm=isch&amp;q=ISRO&amp;chips=q:isro,g_1:mission&amp;sa=X&amp;ved=0ahUKEwjxm9rc1LqAAxVwcGwGHfeKDBcQ4lYIEigH\">mission</a><a class=\"TwVfHd\" href=\"/search?bih=788&amp;biw=767&amp;ie=UTF-8&amp;tbm=isch&amp;q=ISRO&amp;chips=q:isro,g_1:bangalore&amp;sa=X&amp;ved=0ahUKEwjxm9rc1LqAAxVwcGwGHfeKDBcQ4lYIEygI\">bangalore</a><a class=\"TwVfHd\" href=\"/search?bih=788&amp;biw=767&amp;ie=UTF-8&amp;tbm=isch&amp;q=ISRO&amp;chips=q:isro,g_1:launch&amp;sa=X&amp;ved=0ahUKEwjxm9rc1LqAAxVwcGwGHfeKDBcQ4lYIFCgJ\">launch</a></div><div><table class=\"GpQGbf\"><tr><td align=\"center\" class=\"e3goi\"><div class=\"mnTahd\"> <div> <div class=\"lIMUZd\"><div><table class=\"IkMU6e\"><tr><td><a href=\"/url?q=https://en.wikipedia.org/wiki/ISRO&amp;sa=U&amp;ved=2ahUKEwjxm9rc1LqAAxVwcGwGHfeKDBcQqoUBegQIABAB&amp;usg=AOvVaw26pJ-dpqDP2aBDAf97qpe2\"><div class=\"NZWO1b\"><img alt=\"\" class=\"yWs4tf\" src=\"https://encrypted-tbn0.gstatic.com/images?q=tbn:ANd9GcQhEO4YcjxBKR2sNpMMZWr7PQ0-iZL629ku-XPKhDAn8zRUkvIxQdc4eLjqcy4&amp;s\"/></div></a></td></tr><tr><td><a href=\"/url?q=https://en.wikipedia.org/wiki/ISRO&amp;sa=U&amp;ved=2ahUKEwjxm9rc1LqAAxVwcGwGHfeKDBcQr4kDegQIABAC&amp;usg=AOvVaw1G_1mcQY55xyvpP9TBiJD0\"><div class=\"jB2rPd\"> <span class=\"qXLe6d x3G5ab\"> <span class=\"fYyStc\">ISRO - Wikipedia</span> </span> <span class=\"qXLe6d F9iS2e\"> <span class=\"fYyStc\">en.wikipedia.org</span> </span> </div></a></td></tr></table></div></div> </div> </div></td><td align=\"center\" class=\"e3goi\"><div class=\"mnTahd\"> <div> <div class=\"lIMUZd\"><div><table class=\"IkMU6e\"><tr><td><a href=\"/url?q=https://en.wikipedia.org/wiki/Satish_Dhawan_Space_Centre&amp;sa=U&amp;ved=2ahUKEwjxm9rc1LqAAxVwcGwGHfeKDBcQqoUBegQIExAB&amp;usg=AOvVaw1PrZU0n6967G_v_XSGWZBm\"><div class=\"NZWO1b\"><img alt=\"\" class=\"yWs4tf\" src=\"https://encrypted-tbn0.gstatic.com/images?q=tbn:ANd9GcTU9gSTVkWrD3GJPOGMp-ztg1I8y6YKLkAVoDb-MbAa-lsUCQrJw_SashcJPp4&amp;s\"/></div></a></td></tr><tr><td><a href=\"/url?q=https://en.wikipedia.org/wiki/Satish_Dhawan_Space_Centre&amp;sa=U&amp;ved=2ahUKEwjxm9rc1LqAAxVwcGwGHfeKDBcQr4kDegQIExAC&amp;usg=AOvVaw3jQ9KnRPBAJ1ntCifRN4Vm\"><div class=\"jB2rPd\"> <span class=\"qXLe6d x3G5ab\"> <span class=\"fYyStc\">Satish Dhawan Space Centre...</span> </span> <span class=\"qXLe6d F9iS2e\"> <span class=\"fYyStc\">en.wikipedia.org</span> </span> </div></a></td></tr></table></div></div> </div> </div></td><td align=\"center\" class=\"e3goi\"><div class=\"mnTahd\"> <div> <div class=\"lIMUZd\"><div><table class=\"IkMU6e\"><tr><td><a href=\"/url?q=https://twitter.com/airnewsalerts/status/1676930436130557955&amp;sa=U&amp;ved=2ahUKEwjxm9rc1LqAAxVwcGwGHfeKDBcQqoUBegQIEhAB&amp;usg=AOvVaw1Dd84EhW8PUs-rDHalW7Li\"><div class=\"NZWO1b\"><img alt=\"\" class=\"yWs4tf\" src=\"https://encrypted-tbn0.gstatic.com/images?q=tbn:ANd9GcT9XRJb2AQCNssAw28EIkPBUo2xjIYwr8xRQyysFirZ2-usle7EAZsuGNtPZw&amp;s\"/></div></a></td></tr><tr><td><a href=\"/url?q=https://twitter.com/airnewsalerts/status/1676930436130557955&amp;sa=U&amp;ved=2ahUKEwjxm9rc1LqAAxVwcGwGHfeKDBcQr4kDegQIEhAC&amp;usg=AOvVaw1I9HR6tiMQ1xd4xkNlwp7R\"><div class=\"jB2rPd\"> <span class=\"qXLe6d x3G5ab\"> <span class=\"fYyStc\">All India Radio News on...</span> </span> <span class=\"qXLe6d F9iS2e\"> <span class=\"fYyStc\">twitter.com</span> </span> </div></a></td></tr></table></div></div> </div> </div></td><td align=\"center\" class=\"e3goi\"><div class=\"mnTahd\"> <div> <div class=\"lIMUZd\"><div><table class=\"IkMU6e\"><tr><td><a href=\"/url?q=https://news.abplive.com/science/isro-plans-to-return-to-mars-explore-dark-side-of-moon-with-japan-1561836&amp;sa=U&amp;ved=2ahUKEwjxm9rc1LqAAxVwcGwGHfeKDBcQqoUBegQIERAB&amp;usg=AOvVaw14wCxtFpJyfoM7Zclr8dTI\"><div class=\"NZWO1b\"><img alt=\"\" class=\"yWs4tf\" src=\"https://encrypted-tbn0.gstatic.com/images?q=tbn:ANd9GcRTG4I2dRM_m3EROpwhGw7yFLTgIPRTzFZITskFFqoG6K4jpxKhmcGl7R9yQg&amp;s\"/></div></a></td></tr><tr><td><a href=\"/url?q=https://news.abplive.com/science/isro-plans-to-return-to-mars-explore-dark-side-of-moon-with-japan-1561836&amp;sa=U&amp;ved=2ahUKEwjxm9rc1LqAAxVwcGwGHfeKDBcQr4kDegQIERAC&amp;usg=AOvVaw2FIA97mUlo0QxpQkcPFbAx\"><div class=\"jB2rPd\"> <span class=\"qXLe6d x3G5ab\"> <span class=\"fYyStc\">ISRO Plans To Return To...</span> </span> <span class=\"qXLe6d F9iS2e\"> <span class=\"fYyStc\">news.abplive.com</span> </span> </div></a></td></tr></table></div></div> </div> </div></td></tr><tr><td align=\"center\" class=\"e3goi\"><div class=\"mnTahd\"> <div> <div class=\"lIMUZd\"><div><table class=\"IkMU6e\"><tr><td><a href=\"/url?q=https://www.deccanherald.com/state/top-karnataka-stories/isro-s-training-programme-open-to-more-students-1231171.html&amp;sa=U&amp;ved=2ahUKEwjxm9rc1LqAAxVwcGwGHfeKDBcQqoUBegQIEBAB&amp;usg=AOvVaw3Oqp5qEZmqf2yZ_bda3G1Q\"><div class=\"NZWO1b\"><img alt=\"\" class=\"yWs4tf\" src=\"https://encrypted-tbn0.gstatic.com/images?q=tbn:ANd9GcRaHxxX-xAxszxVbyb8qOSMd6uldbVEEjGJ3tc-me1JnbsP5Znr_xqQVGPYcT4&amp;s\"/></div></a></td></tr><tr><td><a href=\"/url?q=https://www.deccanherald.com/state/top-karnataka-stories/isro-s-training-programme-open-to-more-students-1231171.html&amp;sa=U&amp;ved=2ahUKEwjxm9rc1LqAAxVwcGwGHfeKDBcQr4kDegQIEBAC&amp;usg=AOvVaw0IVYKTr2fTzy1RayQuqm7L\"><div class=\"jB2rPd\"> <span class=\"qXLe6d x3G5ab\"> <span class=\"fYyStc\">Isro's training programme...</span> </span> <span class=\"qXLe6d F9iS2e\"> <span class=\"fYyStc\">www.deccanherald.com</span> </span> </div></a></td></tr></table></div></div> </div> </div></td><td align=\"center\" class=\"e3goi\"><div class=\"mnTahd\"> <div> <div class=\"lIMUZd\"><div><table class=\"IkMU6e\"><tr><td><a href=\"/url?q=https://m.timesofindia.com/india/isro-successfully-places-uk-firms-36-satellites-in-orbit/articleshow/99018713.cms&amp;sa=U&amp;ved=2ahUKEwjxm9rc1LqAAxVwcGwGHfeKDBcQqoUBegQIDxAB&amp;usg=AOvVaw3MIVpBZZWe82f-KytR6Xmz\"><div class=\"NZWO1b\"><img alt=\"\" class=\"yWs4tf\" src=\"https://encrypted-tbn0.gstatic.com/images?q=tbn:ANd9GcToBjsykVkdE7Kg94AwekdKZPOef44c69uqVb4UOqxb27tY_-JpMTd8CNdnTxc&amp;s\"/></div></a></td></tr><tr><td><a href=\"/url?q=https://m.timesofindia.com/india/isro-successfully-places-uk-firms-36-satellites-in-orbit/articleshow/99018713.cms&amp;sa=U&amp;ved=2ahUKEwjxm9rc1LqAAxVwcGwGHfeKDBcQr4kDegQIDxAC&amp;usg=AOvVaw1AfNtz2Mk8kxk6JG2LWexd\"><div class=\"jB2rPd\"> <span class=\"qXLe6d x3G5ab\"> <span class=\"fYyStc\">ISRO LVM 3 Launch: Isro...</span> </span> <span class=\"qXLe6d F9iS2e\"> <span class=\"fYyStc\">m.timesofindia.com</span> </span> </div></a></td></tr></table></div></div> </div> </div></td><td align=\"center\" class=\"e3goi\"><div class=\"mnTahd\"> <div> <div class=\"lIMUZd\"><div><table class=\"IkMU6e\"><tr><td><a href=\"/url?q=https://www.isro.gov.in/GSLVmk3_CON.html&amp;sa=U&amp;ved=2ahUKEwjxm9rc1LqAAxVwcGwGHfeKDBcQqoUBegQIDhAB&amp;usg=AOvVaw2IUDw68eCrUQeHTypjbYhI\"><div class=\"NZWO1b\"><img alt=\"\" class=\"yWs4tf\" src=\"https://encrypted-tbn0.gstatic.com/images?q=tbn:ANd9GcSeIm5oldmoLunIf_9AATed-0I24tfydDilfrbJ4HGz3rdYxuRdDcCaG3a2j18&amp;s\"/></div></a></td></tr><tr><td><a href=\"/url?q=https://www.isro.gov.in/GSLVmk3_CON.html&amp;sa=U&amp;ved=2ahUKEwjxm9rc1LqAAxVwcGwGHfeKDBcQr4kDegQIDhAC&amp;usg=AOvVaw0ID_vkyy0s3IR083YaSYgC\"><div class=\"jB2rPd\"> <span class=\"qXLe6d x3G5ab\"> <span class=\"fYyStc\">Indian Space Research...</span> </span> <span class=\"qXLe6d F9iS2e\"> <span class=\"fYyStc\">www.isro.gov.in</span> </span> </div></a></td></tr></table></div></div> </div> </div></td><td align=\"center\" class=\"e3goi\"><div class=\"mnTahd\"> <div> <div class=\"lIMUZd\"><div><table class=\"IkMU6e\"><tr><td><a href=\"/url?q=https://www.indiatoday.in/science/story/isro-moves-lvm-3-with-36-oneweb-satellites-to-pad-launch-on-oct-23-2285803-2022-10-15&amp;sa=U&amp;ved=2ahUKEwjxm9rc1LqAAxVwcGwGHfeKDBcQqoUBegQIDBAB&amp;usg=AOvVaw1Pr4Cam7IuVbmQRCcMq7OG\"><div class=\"NZWO1b\"><img alt=\"\" class=\"yWs4tf\" src=\"https://encrypted-tbn0.gstatic.com/images?q=tbn:ANd9GcQIYHiLM65HIoloMSo2Iq5GyMFcw7to0JP3QGRVxpuZWzcKv1FqbLqMs-xD_w&amp;s\"/></div></a></td></tr><tr><td><a href=\"/url?q=https://www.indiatoday.in/science/story/isro-moves-lvm-3-with-36-oneweb-satellites-to-pad-launch-on-oct-23-2285803-2022-10-15&amp;sa=U&amp;ved=2ahUKEwjxm9rc1LqAAxVwcGwGHfeKDBcQr4kDegQIDBAC&amp;usg=AOvVaw3gqS5p5Ov4CKIEjJ5iiOdQ\"><div class=\"jB2rPd\"> <span class=\"qXLe6d x3G5ab\"> <span class=\"fYyStc\">Isro moves rocket with 36...</span> </span> <span class=\"qXLe6d F9iS2e\"> <span class=\"fYyStc\">www.indiatoday.in</span> </span> </div></a></td></tr></table></div></div> </div> </div></td></tr><tr><td align=\"center\" class=\"e3goi\"><div class=\"mnTahd\"> <div> <div class=\"lIMUZd\"><div><table class=\"IkMU6e\"><tr><td><a href=\"/url?q=https://www.livemint.com/science/news/isro-launches-seven-singaporean-satellites-onboard-a-pslv-rocket-from-sriharikotadssar-11690677428530.html&amp;sa=U&amp;ved=2ahUKEwjxm9rc1LqAAxVwcGwGHfeKDBcQqoUBegQIChAB&amp;usg=AOvVaw3imv88edHzCT6xNnxEXhGO\"><div class=\"NZWO1b\"><img alt=\"\" class=\"yWs4tf\" src=\"https://encrypted-tbn0.gstatic.com/images?q=tbn:ANd9GcSk4TJHTArIBeH4uCM-6fdt7BkTRPAEQukfJ0h6ThZzRISVj35s16tiUQTe2g&amp;s\"/></div></a></td></tr><tr><td><a href=\"/url?q=https://www.livemint.com/science/news/isro-launches-seven-singaporean-satellites-onboard-a-pslv-rocket-from-sriharikotadssar-11690677428530.html&amp;sa=U&amp;ved=2ahUKEwjxm9rc1LqAAxVwcGwGHfeKDBcQr4kDegQIChAC&amp;usg=AOvVaw3XPLIfOikQkdmHa0h8bdf-\"><div class=\"jB2rPd\"> <span class=\"qXLe6d x3G5ab\"> <span class=\"fYyStc\">ISRO launches seven...</span> </span> <span class=\"qXLe6d F9iS2e\"> <span class=\"fYyStc\">www.livemint.com</span> </span> </div></a></td></tr></table></div></div> </div> </div></td><td align=\"center\" class=\"e3goi\"><div class=\"mnTahd\"> <div> <div class=\"lIMUZd\"><div><table class=\"IkMU6e\"><tr><td><a href=\"/url?q=https://www.businesstoday.in/technology/news/story/elon-musk-congratulates-indian-space-agency-isro-for-successful-pslv-c55-launch-378546-2023-04-24&amp;sa=U&amp;ved=2ahUKEwjxm9rc1LqAAxVwcGwGHfeKDBcQqoUBegQICxAB&amp;usg=AOvVaw1FuE1bdOzAZPR_sAYLiCj1\"><div class=\"NZWO1b\"><img alt=\"\" class=\"yWs4tf\" src=\"https://encrypted-tbn0.gstatic.com/images?q=tbn:ANd9GcQMNqH4onM0kXpKJkMKZnAAshN0TB9yrkgN-A6DhlIiXC6CmYD_NjXC-1z_Dw&amp;s\"/></div></a></td></tr><tr><td><a href=\"/url?q=https://www.businesstoday.in/technology/news/story/elon-musk-congratulates-indian-space-agency-isro-for-successful-pslv-c55-launch-378546-2023-04-24&amp;sa=U&amp;ved=2ahUKEwjxm9rc1LqAAxVwcGwGHfeKDBcQr4kDegQICxAC&amp;usg=AOvVaw2Yi4g0XefqDF4FgJOXM-lE\"><div class=\"jB2rPd\"> <span class=\"qXLe6d x3G5ab\"> <span class=\"fYyStc\">Elon Musk congratulates...</span> </span> <span class=\"qXLe6d F9iS2e\"> <span class=\"fYyStc\">www.businesstoday.in</span> </span> </div></a></td></tr></table></div></div> </div> </div></td><td align=\"center\" class=\"e3goi\"><div class=\"mnTahd\"> <div> <div class=\"lIMUZd\"><div><table class=\"IkMU6e\"><tr><td><a href=\"/url?q=https://www.indiatodayne.in/meghalaya/story/isro-selects-meghalayas-ustm-as-nodal-centre-for-start-programme-603519-2023-06-24&amp;sa=U&amp;ved=2ahUKEwjxm9rc1LqAAxVwcGwGHfeKDBcQqoUBegQICRAB&amp;usg=AOvVaw1mgjLFzadf0TDI4gHQ6MeI\"><div class=\"NZWO1b\"><img alt=\"\" class=\"yWs4tf\" src=\"https://encrypted-tbn0.gstatic.com/images?q=tbn:ANd9GcTZ34DNmN_lxIFKnIBSKotpQTOpHIWQUD0M4SRcnmQvOZUY7ZpVn8-GAtsf3xM&amp;s\"/></div></a></td></tr><tr><td><a href=\"/url?q=https://www.indiatodayne.in/meghalaya/story/isro-selects-meghalayas-ustm-as-nodal-centre-for-start-programme-603519-2023-06-24&amp;sa=U&amp;ved=2ahUKEwjxm9rc1LqAAxVwcGwGHfeKDBcQr4kDegQICRAC&amp;usg=AOvVaw2FaPfcEpC9yaNIircQPyyK\"><div class=\"jB2rPd\"> <span class=\"qXLe6d x3G5ab\"> <span class=\"fYyStc\">ISRO selects Meghalaya's...</span> </span> <span class=\"qXLe6d F9iS2e\"> <span class=\"fYyStc\">www.indiatodayne.in</span> </span> </div></a></td></tr></table></div></div> </div> </div></td><td align=\"center\" class=\"e3goi\"><div class=\"mnTahd\"> <div> <div class=\"lIMUZd\"><div><table class=\"IkMU6e\"><tr><td><a href=\"/url?q=https://currentaffairs.adda247.com/list-of-isro-chairman-2023-name-tenure-and-other-important-fact/&amp;sa=U&amp;ved=2ahUKEwjxm9rc1LqAAxVwcGwGHfeKDBcQqoUBegQIDRAB&amp;usg=AOvVaw3APEUSGIzC-MUy2SFWdSzg\"><div class=\"NZWO1b\"><img alt=\"\" class=\"yWs4tf\" src=\"https://encrypted-tbn0.gstatic.com/images?q=tbn:ANd9GcR0XmDyVkCwZGDbMzh1xRht3-MDRYQCcIp-VlWTydGGbalxa1wfWkA9BLgn4g&amp;s\"/></div></a></td></tr><tr><td><a href=\"/url?q=https://currentaffairs.adda247.com/list-of-isro-chairman-2023-name-tenure-and-other-important-fact/&amp;sa=U&amp;ved=2ahUKEwjxm9rc1LqAAxVwcGwGHfeKDBcQr4kDegQIDRAC&amp;usg=AOvVaw14HxP1Q6tWA582ch1cxVQe\"><div class=\"jB2rPd\"> <span class=\"qXLe6d x3G5ab\"> <span class=\"fYyStc\">List of ISRO Chairman 2023:...</span> </span> <span class=\"qXLe6d F9iS2e\"> <span class=\"fYyStc\">currentaffairs.adda247.com</span> </span> </div></a></td></tr></table></div></div> </div> </div></td></tr><tr><td align=\"center\" class=\"e3goi\"><div class=\"mnTahd\"> <div> <div class=\"lIMUZd\"><div><table class=\"IkMU6e\"><tr><td><a href=\"/url?q=https://telanganatoday.com/isro-helping-send-man-6000-metres-deep-into-ocean&amp;sa=U&amp;ved=2ahUKEwjxm9rc1LqAAxVwcGwGHfeKDBcQqoUBegQICBAB&amp;usg=AOvVaw1ibBBSYlVWKGn4diM1cGe4\"><div class=\"NZWO1b\"><img alt=\"\" class=\"yWs4tf\" src=\"https://encrypted-tbn0.gstatic.com/images?q=tbn:ANd9GcSrtM8jyt2dzfTXw6n50foyTR5ugUt2OUHtB6azq2kjMzeWyYWMzNsgZognlaI&amp;s\"/></div></a></td></tr><tr><td><a href=\"/url?q=https://telanganatoday.com/isro-helping-send-man-6000-metres-deep-into-ocean&amp;sa=U&amp;ved=2ahUKEwjxm9rc1LqAAxVwcGwGHfeKDBcQr4kDegQICBAC&amp;usg=AOvVaw2Iam2y5HjNz6TLpIL2xFEi\"><div class=\"jB2rPd\"> <span class=\"qXLe6d x3G5ab\"> <span class=\"fYyStc\">ISRO helping send man 6,000...</span> </span> <span class=\"qXLe6d F9iS2e\"> <span class=\"fYyStc\">telanganatoday.com</span> </span> </div></a></td></tr></table></div></div> </div> </div></td><td align=\"center\" class=\"e3goi\"><div class=\"mnTahd\"> <div> <div class=\"lIMUZd\"><div><table class=\"IkMU6e\"><tr><td><a href=\"/url?q=https://theprint.in/science/isro-earned-rs-1245-cr-in-5-years-by-launching-commercial-satellites-of-26-countries/334531/&amp;sa=U&amp;ved=2ahUKEwjxm9rc1LqAAxVwcGwGHfeKDBcQqoUBegQIBRAB&amp;usg=AOvVaw04MC_rkl6AeKOSC2Gudlrb\"><div class=\"NZWO1b\"><img alt=\"\" class=\"yWs4tf\" src=\"https://encrypted-tbn0.gstatic.com/images?q=tbn:ANd9GcTmimNBDP9lqGhaUFyHgeISu1xDrAHMxMg-BIw_cGYN8gRE0yPOBovbBG2SqA&amp;s\"/></div></a></td></tr><tr><td><a href=\"/url?q=https://theprint.in/science/isro-earned-rs-1245-cr-in-5-years-by-launching-commercial-satellites-of-26-countries/334531/&amp;sa=U&amp;ved=2ahUKEwjxm9rc1LqAAxVwcGwGHfeKDBcQr4kDegQIBRAC&amp;usg=AOvVaw28Q-vtZiYRqrZkebH_ZLcH\"><div class=\"jB2rPd\"> <span class=\"qXLe6d x3G5ab\"> <span class=\"fYyStc\">ISRO earned Rs 1,245 cr in...</span> </span> <span class=\"qXLe6d F9iS2e\"> <span class=\"fYyStc\">theprint.in</span> </span> </div></a></td></tr></table></div></div> </div> </div></td><td align=\"center\" class=\"e3goi\"><div class=\"mnTahd\"> <div> <div class=\"lIMUZd\"><div><table class=\"IkMU6e\"><tr><td><a href=\"/url?q=https://www.jagranjosh.com/general-knowledge/list-of-isro-chairmen-1516281232-1&amp;sa=U&amp;ved=2ahUKEwjxm9rc1LqAAxVwcGwGHfeKDBcQqoUBegQIAhAB&amp;usg=AOvVaw2ht1FkgXapi4JfIIlJ-X7d\"><div class=\"NZWO1b\"><img alt=\"\" class=\"yWs4tf\" src=\"https://encrypted-tbn0.gstatic.com/images?q=tbn:ANd9GcTvpB6Fzuzw5tEk1FoVgOy_DLOOyEHjnoTobz19sp-ZT0wdz1rLab2S7ta4v3M&amp;s\"/></div></a></td></tr><tr><td><a href=\"/url?q=https://www.jagranjosh.com/general-knowledge/list-of-isro-chairmen-1516281232-1&amp;sa=U&amp;ved=2ahUKEwjxm9rc1LqAAxVwcGwGHfeKDBcQr4kDegQIAhAC&amp;usg=AOvVaw36_Lv9BBb-IkzJA2VpDUKa\"><div class=\"jB2rPd\"> <span class=\"qXLe6d x3G5ab\"> <span class=\"fYyStc\">List of ISRO Chairman 2023:...</span> </span> <span class=\"qXLe6d F9iS2e\"> <span class=\"fYyStc\">www.jagranjosh.com</span> </span> </div></a></td></tr></table></div></div> </div> </div></td><td align=\"center\" class=\"e3goi\"><div class=\"mnTahd\"> <div> <div class=\"lIMUZd\"><div><table class=\"IkMU6e\"><tr><td><a href=\"/url?q=https://newsonair.com/2022/07/28/isro-earns-279-million-in-forex-through-satellite-launches-for-34-countries/&amp;sa=U&amp;ved=2ahUKEwjxm9rc1LqAAxVwcGwGHfeKDBcQqoUBegQIAxAB&amp;usg=AOvVaw2kn2D64D0B_xLO1i57F4Rh\"><div class=\"NZWO1b\"><img alt=\"\" class=\"yWs4tf\" src=\"https://encrypted-tbn0.gstatic.com/images?q=tbn:ANd9GcS2QwOhNC0o3hTWVQUOQOkza1DCNVGwRC2J197wpK8cfs4pzqJERZc4A51ixFQ&amp;s\"/></div></a></td></tr><tr><td><a href=\"/url?q=https://newsonair.com/2022/07/28/isro-earns-279-million-in-forex-through-satellite-launches-for-34-countries/&amp;sa=U&amp;ved=2ahUKEwjxm9rc1LqAAxVwcGwGHfeKDBcQr4kDegQIAxAC&amp;usg=AOvVaw3eECdP-RiGlHsWWuiHB4Rd\"><div class=\"jB2rPd\"> <span class=\"qXLe6d x3G5ab\"> <span class=\"fYyStc\">ISRO earns $279 million in...</span> </span> <span class=\"qXLe6d F9iS2e\"> <span class=\"fYyStc\">newsonair.com</span> </span> </div></a></td></tr></table></div></div> </div> </div></td></tr><tr><td align=\"center\" class=\"e3goi\"><div class=\"mnTahd\"> <div> <div class=\"lIMUZd\"><div><table class=\"IkMU6e\"><tr><td><a href=\"/url?q=https://www.ndtv.com/science/2-space-technology-startups-get-access-to-isro-facilities-what-they-plan-to-test-2545213&amp;sa=U&amp;ved=2ahUKEwjxm9rc1LqAAxVwcGwGHfeKDBcQqoUBegQIBhAB&amp;usg=AOvVaw07_LzDvRhtv1_gu-dR6Kgw\"><div class=\"NZWO1b\"><img alt=\"\" class=\"yWs4tf\" src=\"https://encrypted-tbn0.gstatic.com/images?q=tbn:ANd9GcRZCNHs9nOspQtHmmaiyb0aljvdz8m0KC4xcozrBHnd2oeGQnMkEopY1vHA9g&amp;s\"/></div></a></td></tr><tr><td><a href=\"/url?q=https://www.ndtv.com/science/2-space-technology-startups-get-access-to-isro-facilities-what-they-plan-to-test-2545213&amp;sa=U&amp;ved=2ahUKEwjxm9rc1LqAAxVwcGwGHfeKDBcQr4kDegQIBhAC&amp;usg=AOvVaw3xV_lMCtCF5iMUovJ3Q_EI\"><div class=\"jB2rPd\"> <span class=\"qXLe6d x3G5ab\"> <span class=\"fYyStc\">2 Space Technology Startups...</span> </span> <span class=\"qXLe6d F9iS2e\"> <span class=\"fYyStc\">www.ndtv.com</span> </span> </div></a></td></tr></table></div></div> </div> </div></td><td align=\"center\" class=\"e3goi\"><div class=\"mnTahd\"> <div> <div class=\"lIMUZd\"><div><table class=\"IkMU6e\"><tr><td><a href=\"/url?q=https://www.youtube.com/watch%3Fv%3DrZtECdBjryE&amp;sa=U&amp;ved=2ahUKEwjxm9rc1LqAAxVwcGwGHfeKDBcQqoUBegQIBxAB&amp;usg=AOvVaw3WnN-Lp1G8OA7yZZRq1qgV\"><div class=\"NZWO1b\"><img alt=\"\" class=\"yWs4tf\" src=\"https://encrypted-tbn0.gstatic.com/images?q=tbn:ANd9GcR6evrA5IxNEXe477_fOjJKDhzQhaJhJhKPFKemvXq_Os1SgSl-1qdI0WRqFQ&amp;s\"/></div></a></td></tr><tr><td><a href=\"/url?q=https://www.youtube.com/watch%3Fv%3DrZtECdBjryE&amp;sa=U&amp;ved=2ahUKEwjxm9rc1LqAAxVwcGwGHfeKDBcQr4kDegQIBxAC&amp;usg=AOvVaw2Z9H7mIUfvzUHaXnfxi1U9\"><div class=\"jB2rPd\"> <span class=\"qXLe6d x3G5ab\"> <span class=\"fYyStc\">ISRO Launch Today LIVE |...</span> </span> <span class=\"qXLe6d F9iS2e\"> <span class=\"fYyStc\">www.youtube.com</span> </span> </div></a></td></tr></table></div></div> </div> </div></td><td align=\"center\" class=\"e3goi\"><div class=\"mnTahd\"> <div> <div class=\"lIMUZd\"><div><table class=\"IkMU6e\"><tr><td><a href=\"/url?q=https://www.facebook.com/ISRO/posts/isro-launched-the-space-tutor-programme-that-aims-to-collaborate-with-startups-n/383913170535750/&amp;sa=U&amp;ved=2ahUKEwjxm9rc1LqAAxVwcGwGHfeKDBcQqoUBegQIARAB&amp;usg=AOvVaw1qxZgW1GEdCC6qddM8kBxw\"><div class=\"NZWO1b\"><img alt=\"\" class=\"yWs4tf\" src=\"https://encrypted-tbn0.gstatic.com/images?q=tbn:ANd9GcSWigxNOXVoc6G5yWtVuAqSs_HchwVFhWQ2r1lRgDeXOOGYSIkyX8-cRd7cgQ&amp;s\"/></div></a></td></tr><tr><td><a href=\"/url?q=https://www.facebook.com/ISRO/posts/isro-launched-the-space-tutor-programme-that-aims-to-collaborate-with-startups-n/383913170535750/&amp;sa=U&amp;ved=2ahUKEwjxm9rc1LqAAxVwcGwGHfeKDBcQr4kDegQIARAC&amp;usg=AOvVaw1bcwONa_UgQW6_oeOXjQvD\"><div class=\"jB2rPd\"> <span class=\"qXLe6d x3G5ab\"> <span class=\"fYyStc\">ISRO Launched... - ISRO -...</span> </span> <span class=\"qXLe6d F9iS2e\"> <span class=\"fYyStc\">www.facebook.com</span> </span> </div></a></td></tr></table></div></div> </div> </div></td><td align=\"center\" class=\"e3goi\"><div class=\"mnTahd\"> <div> <div class=\"lIMUZd\"><div><table class=\"IkMU6e\"><tr><td><a href=\"/url?q=https://www.indiatimes.com/explainers/news/isro-indian-space-research-organisation-551883.html&amp;sa=U&amp;ved=2ahUKEwjxm9rc1LqAAxVwcGwGHfeKDBcQqoUBegQIBBAB&amp;usg=AOvVaw3GwVGcXtMpkH0_DK7Sk1WW\"><div class=\"NZWO1b\"><img alt=\"\" class=\"yWs4tf\" src=\"https://encrypted-tbn0.gstatic.com/images?q=tbn:ANd9GcSOuGh-2QFQ9_-wmbbMW-s39uPD9ct8AhSSy5DmJn_gKDEH9waQIy7WAvnghNs&amp;s\"/></div></a></td></tr><tr><td><a href=\"/url?q=https://www.indiatimes.com/explainers/news/isro-indian-space-research-organisation-551883.html&amp;sa=U&amp;ved=2ahUKEwjxm9rc1LqAAxVwcGwGHfeKDBcQr4kDegQIBBAC&amp;usg=AOvVaw0PzaibdGXaSR_F27KOuwQR\"><div class=\"jB2rPd\"> <span class=\"qXLe6d x3G5ab\"> <span class=\"fYyStc\">Explained: How ISRO Has...</span> </span> <span class=\"qXLe6d F9iS2e\"> <span class=\"fYyStc\">www.indiatimes.com</span> </span> </div></a></td></tr></table></div></div> </div> </div></td></tr></table></div><table class=\"uZgmoc\"><tbody><td><a class=\"frGj1b\" href=\"/search?q=ISRO&amp;bih=788&amp;biw=767&amp;ie=UTF-8&amp;tbm=isch&amp;ei=PI_IZPGNBfDgseMP95WyuAE&amp;start=20&amp;sa=N\">Next &gt;</a></td></tbody></table><br/><div class=\"TuS8Ad\" data-ved=\"0ahUKEwjxm9rc1LqAAxVwcGwGHfeKDBcQpyoIUg\"><style>.VYM29{font-weight:bold}</style><div align=\"center\" class=\"HddGcc\"><span class=\"VYM29\">500037, Hyderabad, Telangana</span><span> - </span><span>From your IP address</span><span> - </span><a href=\"/url?q=https://support.google.com/websearch%3Fp%3Dws_settings_location%26hl%3Den-IN&amp;sa=U&amp;ved=0ahUKEwjxm9rc1LqAAxVwcGwGHfeKDBcQty4IUw&amp;usg=AOvVaw1lwgnShRtHEJO73z-YJL6h\">Learn more</a></div><div align=\"center\"><a class=\"rEM8G\" href=\"/url?q=https://accounts.google.com/ServiceLogin%3Fcontinue%3Dhttps://www.google.com/search%253Fq%253DISRO%2526tbm%253Disch%2526ved%253D2ahUKEwizs9SKyLqAAxV2yaACHafeCUoQ2-cCegQIABAA%2526oq%253Delon%252Bmusk%2526gs_lcp%253DCgNpbWcQAzIKCAAQigUQsQMQQzIKCAAQigUQsQMQQzIICAAQgAQQsQMyCAgAEIAEELEDMggIABCABBCxAzIICAAQgAQQsQMyCAgAEIAEELEDMggIABCABBCxAzIICAAQgAQQsQMyBQgAEIAEOgQIIxAnOgsIABCABBCxAxCDAToNCAAQigUQsQMQgwEQQzoECAAQAzoHCAAQigUQQzoHCCMQ6gIQJzoICAAQsQMQgwFQ3ARYwRlg3CFoAXAAeAKAAYMBiAHdC5IBBDAuMTOYAQCgAQGqAQtnd3Mtd2l6LWltZ7ABCsABAQ%2526sclient%253Dimg%2526ei%253D-oHIZLPOMPaSg8UPp72n0AQ%2526bih%253D788%2526biw%253D767%26hl%3Den&amp;sa=U&amp;ved=0ahUKEwjxm9rc1LqAAxVwcGwGHfeKDBcQxs8CCFQ&amp;usg=AOvVaw0gBsXiaKfaXbazf7lTNqeX\">Sign in</a></div><div><table class=\"bookcf\"><tbody class=\"InWNIe\"><tr><td><a class=\"rEM8G\" href=\"https://www.google.com/preferences?hl=en&amp;sa=X&amp;ved=0ahUKEwjxm9rc1LqAAxVwcGwGHfeKDBcQv5YECFU\">Settings</a></td><td><a class=\"rEM8G\" href=\"https://www.google.com/intl/en_in/policies/privacy/\">Privacy</a></td><td><a class=\"rEM8G\" href=\"https://www.google.com/intl/en_in/policies/terms/\">Terms</a></td></tr></tbody></table></div></div><div> </div></body></html>"
      ]
     },
     "execution_count": 50,
     "metadata": {},
     "output_type": "execute_result"
    }
   ],
   "source": [
    "soup"
   ]
  },
  {
   "cell_type": "code",
   "execution_count": 51,
   "id": "b1cada33-5660-4e34-ab5c-3b6c4589b429",
   "metadata": {},
   "outputs": [],
   "source": [
    "allimages = soup.find_all(\"img\")"
   ]
  },
  {
   "cell_type": "code",
   "execution_count": 52,
   "id": "a5958204-6f0e-46b7-8ac5-25916e8eab87",
   "metadata": {},
   "outputs": [
    {
     "data": {
      "text/plain": [
       "[<img alt=\"Google\" class=\"kgJEQe\" src=\"/images/branding/searchlogo/1x/googlelogo_desk_heirloom_color_150x55dp.gif\"/>,\n",
       " <img alt=\"\" class=\"yWs4tf\" src=\"https://encrypted-tbn0.gstatic.com/images?q=tbn:ANd9GcQhEO4YcjxBKR2sNpMMZWr7PQ0-iZL629ku-XPKhDAn8zRUkvIxQdc4eLjqcy4&amp;s\"/>,\n",
       " <img alt=\"\" class=\"yWs4tf\" src=\"https://encrypted-tbn0.gstatic.com/images?q=tbn:ANd9GcTU9gSTVkWrD3GJPOGMp-ztg1I8y6YKLkAVoDb-MbAa-lsUCQrJw_SashcJPp4&amp;s\"/>,\n",
       " <img alt=\"\" class=\"yWs4tf\" src=\"https://encrypted-tbn0.gstatic.com/images?q=tbn:ANd9GcT9XRJb2AQCNssAw28EIkPBUo2xjIYwr8xRQyysFirZ2-usle7EAZsuGNtPZw&amp;s\"/>,\n",
       " <img alt=\"\" class=\"yWs4tf\" src=\"https://encrypted-tbn0.gstatic.com/images?q=tbn:ANd9GcRTG4I2dRM_m3EROpwhGw7yFLTgIPRTzFZITskFFqoG6K4jpxKhmcGl7R9yQg&amp;s\"/>,\n",
       " <img alt=\"\" class=\"yWs4tf\" src=\"https://encrypted-tbn0.gstatic.com/images?q=tbn:ANd9GcRaHxxX-xAxszxVbyb8qOSMd6uldbVEEjGJ3tc-me1JnbsP5Znr_xqQVGPYcT4&amp;s\"/>,\n",
       " <img alt=\"\" class=\"yWs4tf\" src=\"https://encrypted-tbn0.gstatic.com/images?q=tbn:ANd9GcToBjsykVkdE7Kg94AwekdKZPOef44c69uqVb4UOqxb27tY_-JpMTd8CNdnTxc&amp;s\"/>,\n",
       " <img alt=\"\" class=\"yWs4tf\" src=\"https://encrypted-tbn0.gstatic.com/images?q=tbn:ANd9GcSeIm5oldmoLunIf_9AATed-0I24tfydDilfrbJ4HGz3rdYxuRdDcCaG3a2j18&amp;s\"/>,\n",
       " <img alt=\"\" class=\"yWs4tf\" src=\"https://encrypted-tbn0.gstatic.com/images?q=tbn:ANd9GcQIYHiLM65HIoloMSo2Iq5GyMFcw7to0JP3QGRVxpuZWzcKv1FqbLqMs-xD_w&amp;s\"/>,\n",
       " <img alt=\"\" class=\"yWs4tf\" src=\"https://encrypted-tbn0.gstatic.com/images?q=tbn:ANd9GcSk4TJHTArIBeH4uCM-6fdt7BkTRPAEQukfJ0h6ThZzRISVj35s16tiUQTe2g&amp;s\"/>,\n",
       " <img alt=\"\" class=\"yWs4tf\" src=\"https://encrypted-tbn0.gstatic.com/images?q=tbn:ANd9GcQMNqH4onM0kXpKJkMKZnAAshN0TB9yrkgN-A6DhlIiXC6CmYD_NjXC-1z_Dw&amp;s\"/>,\n",
       " <img alt=\"\" class=\"yWs4tf\" src=\"https://encrypted-tbn0.gstatic.com/images?q=tbn:ANd9GcTZ34DNmN_lxIFKnIBSKotpQTOpHIWQUD0M4SRcnmQvOZUY7ZpVn8-GAtsf3xM&amp;s\"/>,\n",
       " <img alt=\"\" class=\"yWs4tf\" src=\"https://encrypted-tbn0.gstatic.com/images?q=tbn:ANd9GcR0XmDyVkCwZGDbMzh1xRht3-MDRYQCcIp-VlWTydGGbalxa1wfWkA9BLgn4g&amp;s\"/>,\n",
       " <img alt=\"\" class=\"yWs4tf\" src=\"https://encrypted-tbn0.gstatic.com/images?q=tbn:ANd9GcSrtM8jyt2dzfTXw6n50foyTR5ugUt2OUHtB6azq2kjMzeWyYWMzNsgZognlaI&amp;s\"/>,\n",
       " <img alt=\"\" class=\"yWs4tf\" src=\"https://encrypted-tbn0.gstatic.com/images?q=tbn:ANd9GcTmimNBDP9lqGhaUFyHgeISu1xDrAHMxMg-BIw_cGYN8gRE0yPOBovbBG2SqA&amp;s\"/>,\n",
       " <img alt=\"\" class=\"yWs4tf\" src=\"https://encrypted-tbn0.gstatic.com/images?q=tbn:ANd9GcTvpB6Fzuzw5tEk1FoVgOy_DLOOyEHjnoTobz19sp-ZT0wdz1rLab2S7ta4v3M&amp;s\"/>,\n",
       " <img alt=\"\" class=\"yWs4tf\" src=\"https://encrypted-tbn0.gstatic.com/images?q=tbn:ANd9GcS2QwOhNC0o3hTWVQUOQOkza1DCNVGwRC2J197wpK8cfs4pzqJERZc4A51ixFQ&amp;s\"/>,\n",
       " <img alt=\"\" class=\"yWs4tf\" src=\"https://encrypted-tbn0.gstatic.com/images?q=tbn:ANd9GcRZCNHs9nOspQtHmmaiyb0aljvdz8m0KC4xcozrBHnd2oeGQnMkEopY1vHA9g&amp;s\"/>,\n",
       " <img alt=\"\" class=\"yWs4tf\" src=\"https://encrypted-tbn0.gstatic.com/images?q=tbn:ANd9GcR6evrA5IxNEXe477_fOjJKDhzQhaJhJhKPFKemvXq_Os1SgSl-1qdI0WRqFQ&amp;s\"/>,\n",
       " <img alt=\"\" class=\"yWs4tf\" src=\"https://encrypted-tbn0.gstatic.com/images?q=tbn:ANd9GcSWigxNOXVoc6G5yWtVuAqSs_HchwVFhWQ2r1lRgDeXOOGYSIkyX8-cRd7cgQ&amp;s\"/>,\n",
       " <img alt=\"\" class=\"yWs4tf\" src=\"https://encrypted-tbn0.gstatic.com/images?q=tbn:ANd9GcSOuGh-2QFQ9_-wmbbMW-s39uPD9ct8AhSSy5DmJn_gKDEH9waQIy7WAvnghNs&amp;s\"/>]"
      ]
     },
     "execution_count": 52,
     "metadata": {},
     "output_type": "execute_result"
    }
   ],
   "source": [
    "allimages"
   ]
  },
  {
   "cell_type": "code",
   "execution_count": 53,
   "id": "ef4fbf9e-3f0b-4c94-ab94-d00cc68a2ee0",
   "metadata": {},
   "outputs": [
    {
     "data": {
      "text/plain": [
       "<img alt=\"Google\" class=\"kgJEQe\" src=\"/images/branding/searchlogo/1x/googlelogo_desk_heirloom_color_150x55dp.gif\"/>"
      ]
     },
     "execution_count": 53,
     "metadata": {},
     "output_type": "execute_result"
    }
   ],
   "source": [
    "allimages[0]"
   ]
  },
  {
   "cell_type": "code",
   "execution_count": 54,
   "id": "def5ccfa-377a-4bb9-afb7-336ce07b6c3c",
   "metadata": {},
   "outputs": [],
   "source": [
    "del allimages[0]"
   ]
  },
  {
   "cell_type": "code",
   "execution_count": 55,
   "id": "4e5d3eee-e963-47d3-9573-72139beeb657",
   "metadata": {},
   "outputs": [
    {
     "data": {
      "text/plain": [
       "<img alt=\"\" class=\"yWs4tf\" src=\"https://encrypted-tbn0.gstatic.com/images?q=tbn:ANd9GcQhEO4YcjxBKR2sNpMMZWr7PQ0-iZL629ku-XPKhDAn8zRUkvIxQdc4eLjqcy4&amp;s\"/>"
      ]
     },
     "execution_count": 55,
     "metadata": {},
     "output_type": "execute_result"
    }
   ],
   "source": [
    "allimages[0]"
   ]
  },
  {
   "cell_type": "code",
   "execution_count": 56,
   "id": "518a2c0f-2906-4aaf-a0a0-3fe677d715aa",
   "metadata": {},
   "outputs": [
    {
     "data": {
      "text/plain": [
       "20"
      ]
     },
     "execution_count": 56,
     "metadata": {},
     "output_type": "execute_result"
    }
   ],
   "source": [
    "len(allimages)"
   ]
  },
  {
   "cell_type": "code",
   "execution_count": 57,
   "id": "403e64e5-e4f2-43b1-ae7f-7bc7c09af70d",
   "metadata": {},
   "outputs": [],
   "source": [
    "for i in allimages:\n",
    "    image_url = i['src']\n",
    "    image_data = requests.get(image_url).content\n",
    "    \n",
    "    with open(os.path.join(save_dir, f\"{query}_{allimages.index(i)}.jpg\"),\"wb\") as f:\n",
    "        f.write(image_data)"
   ]
  },
  {
   "cell_type": "code",
   "execution_count": null,
   "id": "66d16f7a-2f9b-4198-95cd-1e5ada47dfbc",
   "metadata": {},
   "outputs": [],
   "source": []
  }
 ],
 "metadata": {
  "kernelspec": {
   "display_name": "Python 3 (ipykernel)",
   "language": "python",
   "name": "python3"
  },
  "language_info": {
   "codemirror_mode": {
    "name": "ipython",
    "version": 3
   },
   "file_extension": ".py",
   "mimetype": "text/x-python",
   "name": "python",
   "nbconvert_exporter": "python",
   "pygments_lexer": "ipython3",
   "version": "3.9.0"
  }
 },
 "nbformat": 4,
 "nbformat_minor": 5
}
